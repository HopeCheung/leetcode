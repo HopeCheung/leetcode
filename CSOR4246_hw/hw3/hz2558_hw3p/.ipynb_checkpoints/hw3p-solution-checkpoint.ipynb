{
 "cells": [
  {
   "cell_type": "markdown",
   "metadata": {},
   "source": [
    "# Max Flow Applications\n",
    "\n",
    "The purpose of this assignment is to investigate applications of finding a Max Flow. The problem asks you to design and implement an algorithm for shipping a material between nodes with different supply and demand requirements.\n",
    "\n",
    "* Please write code *only* in the bodies of the two functions, that is, following the TODO comments.\n",
    "* Be careful not to use varibles defined outside of the functions.\n",
    "* Breaking the two above rules may lead to 0 grades."
   ]
  },
  {
   "cell_type": "markdown",
   "metadata": {},
   "source": [
    "## Movie distribution\n",
    "\n",
    "First solve Problem 2 from hw3-t. \n",
    "\n",
    "Now suppose a movie distributor would like to ship a copy of a film from CA to every other state. There are therefore 48 units to ship out of CA, and each other state receives 1 unit. \n",
    "\n",
    "The dataset contiguous-usa.dat lists the adjacent states in the US. Each line lists two adjacent states; thus AK and HI are omitted, but DC is included in the data. The following code reads in the graph of US states."
   ]
  },
  {
   "cell_type": "code",
   "execution_count": 1,
   "metadata": {},
   "outputs": [],
   "source": [
    "import networkx as nx\n",
    "G = nx.Graph()\n",
    "\n",
    "usa = open('contiguous-usa.dat')\n",
    "for line in usa:\n",
    "    s1, s2 = line.strip().split()\n",
    "    G.add_edge(s1, s2)"
   ]
  },
  {
   "cell_type": "markdown",
   "metadata": {},
   "source": [
    "We now encode the demands into the graph."
   ]
  },
  {
   "cell_type": "code",
   "execution_count": 2,
   "metadata": {},
   "outputs": [],
   "source": [
    "for state in G.nodes():\n",
    "    if state != 'CA':\n",
    "        G.node[state]['demand'] = 1\n",
    "G.node['CA']['demand'] = -48"
   ]
  },
  {
   "cell_type": "markdown",
   "metadata": {},
   "source": [
    "We will assign a uniform capacity of 16 to each edge. Since CA has only three adjacent states, this is the smallest possible uniform capacity that allows one to ship all 48 units out of CA. As we have created an undirected graph, and flows have directions, we first convert the graph to a directed graph."
   ]
  },
  {
   "cell_type": "code",
   "execution_count": 3,
   "metadata": {
    "scrolled": true
   },
   "outputs": [],
   "source": [
    "G = nx.DiGraph(G)\n",
    "uniform_capacity = 16\n",
    "for (s1, s2) in G.edges():\n",
    "    G.edge[s1][s2]['capacity'] = uniform_capacity"
   ]
  },
  {
   "cell_type": "markdown",
   "metadata": {},
   "source": [
    "Complete the following function to implement your algorithm to find a flow with demands. Your function should work correctly for any input, not just the movie instance considered here. As always, you are encouraged to define auxiliary functions as needed for clarity."
   ]
  },
  {
   "cell_type": "code",
   "execution_count": 4,
   "metadata": {},
   "outputs": [],
   "source": [
    "def flow_with_demands(graph):\n",
    "    \"\"\"Computes a flow with demands over the given graph.\n",
    "    \n",
    "    Args:\n",
    "        graph: A directed graph with nodes annotated with 'demand' properties and edges annotated with 'capacity' \n",
    "            properties.\n",
    "        \n",
    "    Returns:\n",
    "        A dict of dicts containing the flow on each edge. For instance, flow[s1][s2] should provide the flow along\n",
    "        edge (s1, s2).\n",
    "        \n",
    "    Raises:\n",
    "        NetworkXUnfeasible: An error is thrown if there is no flow satisfying the demands.\n",
    "    \"\"\"\n",
    "    # TODO: Implement the function.\n",
    "    for state in graph.nodes():\n",
    "        if graph.node[state]['demand'] < 0:\n",
    "            graph.add_edge('S', state)\n",
    "            graph.edge['S'][state]['capacity'] = -graph.node[state]['demand']\n",
    "        elif graph.node[state]['demand'] > 0:\n",
    "            graph.add_edge(state, 'T')\n",
    "            graph.edge[state]['T']['capacity'] = graph.node[state]['demand']\n",
    "            \n",
    "    for (s1, s2) in graph.edges():\n",
    "        graph.edge[s1][s2]['forward_flow'] = graph.edge[s1][s2]['capacity']\n",
    "        graph.edge[s1][s2]['back_flow'] =  0\n",
    "        \n",
    "    def BFS(graph, s, t, parent):\n",
    "        visited = {}\n",
    "        for node in graph.nodes():\n",
    "            visited[node] = False\n",
    "        queue = []\n",
    "        queue.append(s)\n",
    "        visited[s]  = True\n",
    "    \n",
    "        while queue:\n",
    "            u = queue.pop(0)\n",
    "            for child in graph.edge[u]:\n",
    "                if visited[child] == False and graph[u][child]['forward_flow']> 0:\n",
    "                    queue.append(child)\n",
    "                    visited[child] = True\n",
    "                    parent[child] = u\n",
    "        return visited[t] == True   \n",
    "    \n",
    "    def FordFulkerson(graph, source, sink):\n",
    "        parent = {}\n",
    "        for node in graph.nodes():\n",
    "            parent[node] = 'N'\n",
    "            max_flow = 0\n",
    "        \n",
    "        while BFS(graph, source, sink, parent):\n",
    "            path_flow = 999\n",
    "            s = sink\n",
    "            while s != source:\n",
    "                path_flow = min(path_flow, graph.edge[parent[s]][s]['forward_flow'])\n",
    "                s = parent[s]\n",
    "            max_flow = max_flow + path_flow\n",
    "            v = sink\n",
    "            while v != source:\n",
    "                u = parent[v]\n",
    "                graph.edge[u][v]['forward_flow'] -= path_flow\n",
    "                graph.edge[u][v]['back_flow'] += path_flow\n",
    "                v = parent[v]\n",
    "        return graph\n",
    "    \n",
    "    g = FordFulkerson(G, 'S', 'T')\n",
    "    flow = {}\n",
    "    for (s1, s2) in g.edges():\n",
    "        if s1 == 'S' or s2 == 'T':\n",
    "            continue\n",
    "        if s1 not in flow:\n",
    "            flow[s1] = {s2: g.edge[s1][s2]['back_flow']}\n",
    "        else:\n",
    "            flow[s1][s2] = g.edge[s1][s2]['back_flow']\n",
    "    graph.remove_node('S')\n",
    "    graph.remove_node('T')\n",
    "    return flow"
   ]
  },
  {
   "cell_type": "markdown",
   "metadata": {},
   "source": [
    "To verify that your solution is correct, implement a function that computes the total flow into each node (which will be negative for supply nodes)."
   ]
  },
  {
   "cell_type": "code",
   "execution_count": 5,
   "metadata": {},
   "outputs": [],
   "source": [
    "def divergence(flow):\n",
    "    \"\"\"Computes the total flow into each node according to the given flow dict.\n",
    "    \n",
    "    Args:\n",
    "        flow: the flow dict recording flow between nodes.\n",
    "        \n",
    "    Returns:\n",
    "        A dict of the net flow into each node.\n",
    "    \"\"\"\n",
    "    # TODO: Implement the function.\n",
    "    dic = {}\n",
    "    for source in flow:\n",
    "        for sink in flow[source]:\n",
    "            if source == 'S' or sink == 'T':\n",
    "                continue\n",
    "            if source in dic:\n",
    "                if sink in dic:\n",
    "                    dic[source], dic[sink] = dic[source] - flow[source][sink], dic[sink] + flow[source][sink]\n",
    "                elif sink not in dic:\n",
    "                    dic[source], dic[sink] = dic[source] - flow[source][sink], flow[source][sink]\n",
    "            elif source not in dic:\n",
    "                if sink in dic:\n",
    "                    dic[source], dic[sink] = -flow[source][sink], dic[sink] + flow[source][sink]\n",
    "                elif sink not in dic:\n",
    "                    dic[source], dic[sink] = -flow[source][sink], flow[source][sink]\n",
    "    return dic"
   ]
  },
  {
   "cell_type": "markdown",
   "metadata": {},
   "source": [
    "The following code performs a sanity check on your function (but does not completely confirm correctness)."
   ]
  },
  {
   "cell_type": "code",
   "execution_count": 6,
   "metadata": {},
   "outputs": [
    {
     "name": "stdout",
     "output_type": "stream",
     "text": [
      "Flow satisfies all demands: True\n"
     ]
    }
   ],
   "source": [
    "flow = flow_with_demands(G)\n",
    "div = divergence(flow)\n",
    "print \"Flow satisfies all demands:\", all(div[n] == G.node[n]['demand'] for n in G.nodes())"
   ]
  },
  {
   "cell_type": "code",
   "execution_count": 7,
   "metadata": {},
   "outputs": [
    {
     "data": {
      "text/plain": [
       "{'AL': {'FL': 1, 'GA': 0, 'MS': 0, 'TN': 0},\n",
       " 'AR': {'LA': 0, 'MO': 0, 'MS': 1, 'OK': 0, 'TN': 0, 'TX': 0},\n",
       " 'AZ': {'CA': 0, 'NM': 7, 'NV': 0, 'UT': 8},\n",
       " 'CA': {'AZ': 16, 'NV': 16, 'OR': 16},\n",
       " 'CO': {'KS': 1, 'NE': 2, 'NM': 0, 'OK': 12, 'UT': 0, 'WY': 0},\n",
       " 'CT': {'MA': 0, 'NY': 0, 'RI': 0},\n",
       " 'DC': {'MD': 0, 'VA': 0},\n",
       " 'DE': {'MD': 0, 'NJ': 0, 'PA': 0},\n",
       " 'FL': {'AL': 0, 'GA': 0},\n",
       " 'GA': {'AL': 0, 'FL': 0, 'NC': 0, 'SC': 0, 'TN': 0},\n",
       " 'IA': {'IL': 2, 'MN': 0, 'MO': 0, 'NE': 0, 'SD': 0, 'WI': 0},\n",
       " 'ID': {'MT': 6, 'NV': 0, 'OR': 0, 'UT': 0, 'WA': 0, 'WY': 7},\n",
       " 'IL': {'IA': 0, 'IN': 1, 'KY': 0, 'MO': 0, 'WI': 0},\n",
       " 'IN': {'IL': 0, 'KY': 0, 'MI': 0, 'OH': 0},\n",
       " 'KS': {'CO': 0, 'MO': 0, 'NE': 0, 'OK': 0},\n",
       " 'KY': {'IL': 0, 'IN': 0, 'MO': 0, 'OH': 10, 'TN': 0, 'VA': 0, 'WV': 1},\n",
       " 'LA': {'AR': 0, 'MS': 0, 'TX': 0},\n",
       " 'MA': {'CT': 0, 'NH': 2, 'NY': 0, 'RI': 1, 'VT': 0},\n",
       " 'MD': {'DC': 0, 'DE': 1, 'PA': 0, 'VA': 0, 'WV': 0},\n",
       " 'ME': {'NH': 0},\n",
       " 'MI': {'IN': 0, 'OH': 0, 'WI': 0},\n",
       " 'MN': {'IA': 0, 'ND': 0, 'SD': 0, 'WI': 2},\n",
       " 'MO': {'AR': 0,\n",
       "  'IA': 0,\n",
       "  'IL': 0,\n",
       "  'KS': 0,\n",
       "  'KY': 12,\n",
       "  'NE': 0,\n",
       "  'OK': 0,\n",
       "  'TN': 10},\n",
       " 'MS': {'AL': 0, 'AR': 0, 'LA': 0, 'TN': 0},\n",
       " 'MT': {'ID': 0, 'ND': 3, 'SD': 2, 'WY': 0},\n",
       " 'NC': {'GA': 0, 'SC': 1, 'TN': 0, 'VA': 0},\n",
       " 'ND': {'MN': 2, 'MT': 0, 'SD': 0},\n",
       " 'NE': {'CO': 0, 'IA': 1, 'KS': 0, 'MO': 10, 'SD': 0, 'WY': 0},\n",
       " 'NH': {'MA': 0, 'ME': 1, 'VT': 0},\n",
       " 'NJ': {'DE': 0, 'NY': 0, 'PA': 0},\n",
       " 'NM': {'AZ': 0, 'CO': 0, 'OK': 4, 'TX': 2},\n",
       " 'NV': {'AZ': 0, 'CA': 0, 'ID': 0, 'OR': 0, 'UT': 15},\n",
       " 'NY': {'CT': 1, 'MA': 4, 'NJ': 0, 'PA': 0, 'VT': 1},\n",
       " 'OH': {'IN': 0, 'KY': 0, 'MI': 0, 'PA': 9, 'WV': 0},\n",
       " 'OK': {'AR': 2, 'CO': 0, 'KS': 0, 'MO': 13, 'NM': 0, 'TX': 0},\n",
       " 'OR': {'CA': 0, 'ID': 14, 'NV': 0, 'WA': 1},\n",
       " 'PA': {'DE': 0, 'MD': 0, 'NJ': 1, 'NY': 7, 'OH': 0, 'WV': 0},\n",
       " 'RI': {'CT': 0, 'MA': 0},\n",
       " 'SC': {'GA': 0, 'NC': 0},\n",
       " 'SD': {'IA': 2, 'MN': 1, 'MT': 0, 'ND': 0, 'NE': 0, 'WY': 0},\n",
       " 'TN': {'AL': 2,\n",
       "  'AR': 0,\n",
       "  'GA': 1,\n",
       "  'KY': 0,\n",
       "  'MO': 0,\n",
       "  'MS': 0,\n",
       "  'NC': 2,\n",
       "  'VA': 4},\n",
       " 'TX': {'AR': 0, 'LA': 1, 'NM': 0, 'OK': 0},\n",
       " 'UT': {'AZ': 0, 'CO': 16, 'ID': 0, 'NV': 0, 'WY': 6},\n",
       " 'VA': {'DC': 1, 'KY': 0, 'MD': 2, 'NC': 0, 'TN': 0, 'WV': 0},\n",
       " 'VT': {'MA': 0, 'NH': 0, 'NY': 0},\n",
       " 'WA': {'ID': 0, 'OR': 0},\n",
       " 'WI': {'IA': 0, 'IL': 0, 'MI': 1, 'MN': 0},\n",
       " 'WV': {'KY': 0, 'MD': 0, 'OH': 0, 'PA': 0, 'VA': 0},\n",
       " 'WY': {'CO': 0, 'ID': 0, 'MT': 0, 'NE': 10, 'SD': 2, 'UT': 0}}"
      ]
     },
     "execution_count": 7,
     "metadata": {},
     "output_type": "execute_result"
    }
   ],
   "source": [
    "flow"
   ]
  },
  {
   "cell_type": "code",
   "execution_count": null,
   "metadata": {},
   "outputs": [],
   "source": []
  }
 ],
 "metadata": {
  "kernelspec": {
   "display_name": "Python 2",
   "language": "python",
   "name": "python2"
  },
  "language_info": {
   "codemirror_mode": {
    "name": "ipython",
    "version": 2
   },
   "file_extension": ".py",
   "mimetype": "text/x-python",
   "name": "python",
   "nbconvert_exporter": "python",
   "pygments_lexer": "ipython2",
   "version": "2.7.15"
  }
 },
 "nbformat": 4,
 "nbformat_minor": 1
}
